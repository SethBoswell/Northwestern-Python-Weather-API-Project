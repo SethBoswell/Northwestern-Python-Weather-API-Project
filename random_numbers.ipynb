{
 "cells": [
  {
   "cell_type": "code",
   "execution_count": 3,
   "id": "cbcd8a96",
   "metadata": {},
   "outputs": [],
   "source": [
    "# Import the random module.\n",
    "import random"
   ]
  },
  {
   "cell_type": "code",
   "execution_count": 6,
   "id": "24b2410d",
   "metadata": {},
   "outputs": [
    {
     "data": {
      "text/plain": [
       "-4"
      ]
     },
     "execution_count": 6,
     "metadata": {},
     "output_type": "execute_result"
    }
   ],
   "source": [
    "random.randint(-90 , 90)"
   ]
  },
  {
   "cell_type": "code",
   "execution_count": 7,
   "id": "51f54698",
   "metadata": {},
   "outputs": [
    {
     "data": {
      "text/plain": [
       "0.2340066752976443"
      ]
     },
     "execution_count": 7,
     "metadata": {},
     "output_type": "execute_result"
    }
   ],
   "source": [
    "random.random()"
   ]
  },
  {
   "cell_type": "code",
   "execution_count": 8,
   "id": "f79bcd9e",
   "metadata": {},
   "outputs": [],
   "source": [
    "x = 1\n",
    "latitudes = []\n",
    "while x < 11:\n",
    "    random_lat = random.randint(-90, 89) + random.random()\n",
    "    latitudes.append(random_lat)\n",
    "    x += 1"
   ]
  },
  {
   "cell_type": "code",
   "execution_count": 10,
   "id": "84be386a",
   "metadata": {},
   "outputs": [
    {
     "data": {
      "text/plain": [
       "33"
      ]
     },
     "execution_count": 10,
     "metadata": {},
     "output_type": "execute_result"
    }
   ],
   "source": [
    "random.randrange(-90, 90, step=3)"
   ]
  },
  {
   "cell_type": "code",
   "execution_count": 11,
   "id": "2c7e3a36",
   "metadata": {},
   "outputs": [
    {
     "data": {
      "text/plain": [
       "-44.29207653148978"
      ]
     },
     "execution_count": 11,
     "metadata": {},
     "output_type": "execute_result"
    }
   ],
   "source": [
    "random.uniform(-90, 90)"
   ]
  },
  {
   "cell_type": "code",
   "execution_count": 12,
   "id": "909d88cc",
   "metadata": {},
   "outputs": [],
   "source": [
    "# Import the NumPy module.\n",
    "import numpy as np"
   ]
  },
  {
   "cell_type": "code",
   "execution_count": 13,
   "id": "a4626a8d",
   "metadata": {},
   "outputs": [
    {
     "data": {
      "text/plain": [
       "-19.774393823696755"
      ]
     },
     "execution_count": 13,
     "metadata": {},
     "output_type": "execute_result"
    }
   ],
   "source": [
    "np.random.uniform(-90.000, 90.000)"
   ]
  },
  {
   "cell_type": "code",
   "execution_count": 14,
   "id": "c1ae698c",
   "metadata": {},
   "outputs": [
    {
     "data": {
      "text/plain": [
       "array([ 44.50355771,   5.29815143, -27.92489776, -13.04690815,\n",
       "        23.75306292,  42.58255104, -64.62264831, -36.00048205,\n",
       "       -78.66793587, -83.55155539,  69.51549601,  -8.50915638,\n",
       "        27.29353807,  23.41632892,  29.90354424,  62.94776775,\n",
       "        27.01264948,   3.15133073,  75.85247404,  55.66471527,\n",
       "       -36.73191863,  77.45518093,  55.38279695,  85.82267756,\n",
       "        65.54877819,  58.31817765, -87.57204514,  34.34726382,\n",
       "       -12.64938104,  21.77851752,  13.60848817,  57.39970363,\n",
       "        62.91668459, -64.09315379, -16.93746411, -44.23138457,\n",
       "        51.7771376 , -26.82287652,  54.88067165, -81.29259227,\n",
       "        27.65711491,   2.57222595,  73.60332797,  36.69560702,\n",
       "        58.65825245,  67.0444062 ,  10.48490296,  53.08505647,\n",
       "        61.38809033,  10.51878833])"
      ]
     },
     "execution_count": 14,
     "metadata": {},
     "output_type": "execute_result"
    }
   ],
   "source": [
    "np.random.uniform(-90.000, 90.000, size=50)"
   ]
  },
  {
   "cell_type": "code",
   "execution_count": 15,
   "id": "b5986a16",
   "metadata": {},
   "outputs": [],
   "source": [
    "# Import timeit.\n",
    "import timeit"
   ]
  },
  {
   "cell_type": "code",
   "execution_count": 16,
   "id": "6a2041b4",
   "metadata": {},
   "outputs": [
    {
     "name": "stdout",
     "output_type": "stream",
     "text": [
      "14 µs ± 585 ns per loop (mean ± std. dev. of 7 runs, 100000 loops each)\n"
     ]
    }
   ],
   "source": [
    "%timeit np.random.uniform(-90.000, 90.000, size=1500)"
   ]
  },
  {
   "cell_type": "code",
   "execution_count": 17,
   "id": "ca79236f",
   "metadata": {},
   "outputs": [
    {
     "name": "stdout",
     "output_type": "stream",
     "text": [
      "1.72 ms ± 18.2 µs per loop (mean ± std. dev. of 7 runs, 1000 loops each)\n"
     ]
    }
   ],
   "source": [
    "def latitudes(size):\n",
    "    latitudes = []\n",
    "    x = 0\n",
    "    while x < (size):\n",
    "        random_lat = random.randint(-90, 90) + random.random()\n",
    "        latitudes.append(random_lat)\n",
    "        x += 1\n",
    "    return latitudes\n",
    "# Call the function with 1500.\n",
    "%timeit latitudes(1500)"
   ]
  },
  {
   "cell_type": "code",
   "execution_count": null,
   "id": "1cffe881",
   "metadata": {},
   "outputs": [],
   "source": []
  }
 ],
 "metadata": {
  "kernelspec": {
   "display_name": "Python 3",
   "language": "python",
   "name": "python3"
  },
  "language_info": {
   "codemirror_mode": {
    "name": "ipython",
    "version": 3
   },
   "file_extension": ".py",
   "mimetype": "text/x-python",
   "name": "python",
   "nbconvert_exporter": "python",
   "pygments_lexer": "ipython3",
   "version": "3.7.10"
  }
 },
 "nbformat": 4,
 "nbformat_minor": 5
}
